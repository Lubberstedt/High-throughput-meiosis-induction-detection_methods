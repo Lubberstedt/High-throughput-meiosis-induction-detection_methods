{
 "cells": [
  {
   "cell_type": "code",
   "execution_count": null,
   "metadata": {},
   "outputs": [],
   "source": [
    "# How to Use\n",
    "## Replace {Variable} with whatever you want to call the respective function\n",
    "## i.e. change ${VARIABLE_NAME1} = FlowCal.io.FCSData(\"{RAW_Data_FILENAME}.fcs\") to $wt = FlowCal.io.FCSData(\"wt.fcs\")\n",
    "\n",
    "##Use the same type of notation for any number of samples collected at the flowcytometry facility"
   ]
  },
  {
   "cell_type": "code",
   "execution_count": null,
   "metadata": {},
   "outputs": [],
   "source": [
    "### Analyzing Flow Cytometry Data with FlowCal\n",
    "###https://taborlab.github.io/FlowCal/python_tutorial/plot.html\n",
    "\n",
    "# Install Dependencies\n",
    "\n",
    "import os\n",
    "import packaging\n",
    "import six\n",
    "import numpy as np\n",
    "import matplotlib.pyplot as plt\n",
    "import sklearn\n",
    "import skimage\n",
    "import pandas as pd\n",
    "import xlrd\n",
    "import FlowCal as FlowCal\n",
    "## import XlsxWriter Isn't working right now\n",
    "\n",
    "import statistics"
   ]
  },
  {
   "cell_type": "code",
   "execution_count": null,
   "metadata": {},
   "outputs": [],
   "source": [
    "# Load into FlowCal\n",
    "{VARIABLE_NAME1} = FlowCal.io.FCSData(\"{RAW_Data_FILENAME}.fcs\")\n",
    "print ({VARIABLE_NAME1}.channels)"
   ]
  },
  {
   "cell_type": "code",
   "execution_count": null,
   "metadata": {},
   "outputs": [],
   "source": [
    "#Convert into dataframe\n",
    "{Variable_NAME2}=pd.DataFrame(VARIABLE_NAME1)"
   ]
  },
  {
   "cell_type": "code",
   "execution_count": null,
   "metadata": {},
   "outputs": [],
   "source": [
    "#Making channels as a list\n",
    "{VARIABLE_NAME3}=list(({VARIABLE_NAME1}.channels))"
   ]
  },
  {
   "cell_type": "code",
   "execution_count": null,
   "metadata": {},
   "outputs": [],
   "source": [
    "#Using listed channels as header in dataframe\n",
    "{Variable_NAME2}.columns = [{VARIABLE_NAME3}]"
   ]
  },
  {
   "cell_type": "code",
   "execution_count": null,
   "metadata": {},
   "outputs": [],
   "source": [
    "#Datafram to CSV\n",
    "\n",
    "from pathlib import Path  \n",
    "filepath = Path('{Directory_Name}/{SAMPLE}.csv')  \n",
    "filepath.parent.mkdir(parents=True, exist_ok=True)  \n",
    "WT.to_csv(filepath)"
   ]
  },
  {
   "cell_type": "code",
   "execution_count": null,
   "metadata": {},
   "outputs": [],
   "source": [
    "# The next step will be to use R to analyze the produced CSV files"
   ]
  }
 ],
 "metadata": {
  "kernelspec": {
   "display_name": "Python 3",
   "language": "python",
   "name": "python3"
  },
  "language_info": {
   "codemirror_mode": {
    "name": "ipython",
    "version": 3
   },
   "file_extension": ".py",
   "mimetype": "text/x-python",
   "name": "python",
   "nbconvert_exporter": "python",
   "pygments_lexer": "ipython3",
   "version": "3.8.5"
  }
 },
 "nbformat": 4,
 "nbformat_minor": 4
}
